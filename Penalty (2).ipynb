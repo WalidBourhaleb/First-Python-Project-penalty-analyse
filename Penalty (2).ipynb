{
  "nbformat": 4,
  "nbformat_minor": 0,
  "metadata": {
    "colab": {
      "provenance": []
    },
    "kernelspec": {
      "name": "python3",
      "display_name": "Python 3"
    },
    "language_info": {
      "name": "python"
    }
  },
  "cells": [
    {
      "cell_type": "code",
      "execution_count": 46,
      "metadata": {
        "id": "sfrNCYDPhQ_d"
      },
      "outputs": [],
      "source": [
        "#packages\n",
        "import os\n",
        "import pandas as pd\n",
        "import numpy as np\n",
        "import matplotlib.pyplot as plt\n",
        "import seaborn as sns"
      ]
    },
    {
      "cell_type": "code",
      "source": [
        "df=pd.read_excel('/content/drive/MyDrive/Penalty_stats_propre_19-20.xlsx')\n",
        "df"
      ],
      "metadata": {
        "colab": {
          "base_uri": "https://localhost:8080/",
          "height": 696
        },
        "id": "Ww7xW9InhuUD",
        "outputId": "ffe984e6-fa4c-4b62-8654-9b3a749f5e5c"
      },
      "execution_count": 47,
      "outputs": [
        {
          "output_type": "execute_result",
          "data": {
            "text/plain": [
              "      Id     Competition Journee       Date          Home_team  \\\n",
              "0      1  Premier League       1 2019-08-10           West Ham   \n",
              "1      2  Premier League       1 2019-08-10           West Ham   \n",
              "2      3  Premier League       1 2019-08-11  Manchester United   \n",
              "3      4  Premier League       2 2019-08-17        Aston Villa   \n",
              "4      5  Premier League       2 2019-08-19      Wolverhampton   \n",
              "..   ...             ...     ...        ...                ...   \n",
              "489  490         SERIE A      38 2021-08-01            Brescia   \n",
              "490  491         SERIE A      38 2021-08-01           AC Milan   \n",
              "491  492         SERIE A      38 2021-08-01             Naples   \n",
              "492  493         SERIE A      38 2021-08-01           Juventus   \n",
              "493  494         SERIE A      38 2021-08-02               SPAL   \n",
              "\n",
              "             Away_team Team_taking_pen           Pen_taker  Minute  \\\n",
              "0      Manchester City            Away       Sergio Aguero    84.0   \n",
              "1      Manchester City            Away       Sergio Aguero    86.0   \n",
              "2              Chelsea            Home     Marcus Rashford    18.0   \n",
              "3          Bournemouth            Away         Joshua King     2.0   \n",
              "4    Manchester United            Away          Paul Pogba    68.0   \n",
              "..                 ...             ...                 ...     ...   \n",
              "489          Sampdoria            Home  Ernesto Torregrosa    49.0   \n",
              "490           Cagliari            Home  Zlatan Ibrahimovic    44.0   \n",
              "491              Lazio            Home     Lorenzo Insigne    54.0   \n",
              "492               Roma            Away       Diego Perotti    44.0   \n",
              "493         Fiorentina            Away        Erick Pulgar    93.0   \n",
              "\n",
              "    LtD_game-changing_pen DtW_game-changing _pen L_no_game-changing  \\\n",
              "0                      NO                     NO                 NO   \n",
              "1                      NO                     NO                 NO   \n",
              "2                      NO                    YES                 NO   \n",
              "3                      NO                    YES                 NO   \n",
              "4                      NO                    YES                 NO   \n",
              "..                    ...                    ...                ...   \n",
              "489                   YES                     NO                 NO   \n",
              "490                    NO                     NO                 NO   \n",
              "491                    NO                    YES                 NO   \n",
              "492                    NO                    YES                 NO   \n",
              "493                    NO                     NO                 NO   \n",
              "\n",
              "    W_no_game-changing Scored PT_sub PT_position Team_win Last_Goal  \n",
              "0                  YES     NO    YES          ST      YES        NO  \n",
              "1                  YES    YES    YES          ST      YES        NO  \n",
              "2                   NO    YES     NO           W      YES        NO  \n",
              "3                   NO    YES     NO          OM      YES        NO  \n",
              "4                   NO     NO     NO          DM       NO       YES  \n",
              "..                 ...    ...    ...         ...      ...       ...  \n",
              "489                 NO    YES     NO          ST       NO       YES  \n",
              "490                YES     NO     NO          ST      YES        NO  \n",
              "491                 NO    YES     NO           W      YES        NO  \n",
              "492                 NO    YES     NO           W      YES        NO  \n",
              "493                YES    YES     NO          DM      YES       YES  \n",
              "\n",
              "[494 rows x 18 columns]"
            ],
            "text/html": [
              "\n",
              "  <div id=\"df-8dc4e157-ed36-430c-876a-1107dd40bef7\">\n",
              "    <div class=\"colab-df-container\">\n",
              "      <div>\n",
              "<style scoped>\n",
              "    .dataframe tbody tr th:only-of-type {\n",
              "        vertical-align: middle;\n",
              "    }\n",
              "\n",
              "    .dataframe tbody tr th {\n",
              "        vertical-align: top;\n",
              "    }\n",
              "\n",
              "    .dataframe thead th {\n",
              "        text-align: right;\n",
              "    }\n",
              "</style>\n",
              "<table border=\"1\" class=\"dataframe\">\n",
              "  <thead>\n",
              "    <tr style=\"text-align: right;\">\n",
              "      <th></th>\n",
              "      <th>Id</th>\n",
              "      <th>Competition</th>\n",
              "      <th>Journee</th>\n",
              "      <th>Date</th>\n",
              "      <th>Home_team</th>\n",
              "      <th>Away_team</th>\n",
              "      <th>Team_taking_pen</th>\n",
              "      <th>Pen_taker</th>\n",
              "      <th>Minute</th>\n",
              "      <th>LtD_game-changing_pen</th>\n",
              "      <th>DtW_game-changing _pen</th>\n",
              "      <th>L_no_game-changing</th>\n",
              "      <th>W_no_game-changing</th>\n",
              "      <th>Scored</th>\n",
              "      <th>PT_sub</th>\n",
              "      <th>PT_position</th>\n",
              "      <th>Team_win</th>\n",
              "      <th>Last_Goal</th>\n",
              "    </tr>\n",
              "  </thead>\n",
              "  <tbody>\n",
              "    <tr>\n",
              "      <th>0</th>\n",
              "      <td>1</td>\n",
              "      <td>Premier League</td>\n",
              "      <td>1</td>\n",
              "      <td>2019-08-10</td>\n",
              "      <td>West Ham</td>\n",
              "      <td>Manchester City</td>\n",
              "      <td>Away</td>\n",
              "      <td>Sergio Aguero</td>\n",
              "      <td>84.0</td>\n",
              "      <td>NO</td>\n",
              "      <td>NO</td>\n",
              "      <td>NO</td>\n",
              "      <td>YES</td>\n",
              "      <td>NO</td>\n",
              "      <td>YES</td>\n",
              "      <td>ST</td>\n",
              "      <td>YES</td>\n",
              "      <td>NO</td>\n",
              "    </tr>\n",
              "    <tr>\n",
              "      <th>1</th>\n",
              "      <td>2</td>\n",
              "      <td>Premier League</td>\n",
              "      <td>1</td>\n",
              "      <td>2019-08-10</td>\n",
              "      <td>West Ham</td>\n",
              "      <td>Manchester City</td>\n",
              "      <td>Away</td>\n",
              "      <td>Sergio Aguero</td>\n",
              "      <td>86.0</td>\n",
              "      <td>NO</td>\n",
              "      <td>NO</td>\n",
              "      <td>NO</td>\n",
              "      <td>YES</td>\n",
              "      <td>YES</td>\n",
              "      <td>YES</td>\n",
              "      <td>ST</td>\n",
              "      <td>YES</td>\n",
              "      <td>NO</td>\n",
              "    </tr>\n",
              "    <tr>\n",
              "      <th>2</th>\n",
              "      <td>3</td>\n",
              "      <td>Premier League</td>\n",
              "      <td>1</td>\n",
              "      <td>2019-08-11</td>\n",
              "      <td>Manchester United</td>\n",
              "      <td>Chelsea</td>\n",
              "      <td>Home</td>\n",
              "      <td>Marcus Rashford</td>\n",
              "      <td>18.0</td>\n",
              "      <td>NO</td>\n",
              "      <td>YES</td>\n",
              "      <td>NO</td>\n",
              "      <td>NO</td>\n",
              "      <td>YES</td>\n",
              "      <td>NO</td>\n",
              "      <td>W</td>\n",
              "      <td>YES</td>\n",
              "      <td>NO</td>\n",
              "    </tr>\n",
              "    <tr>\n",
              "      <th>3</th>\n",
              "      <td>4</td>\n",
              "      <td>Premier League</td>\n",
              "      <td>2</td>\n",
              "      <td>2019-08-17</td>\n",
              "      <td>Aston Villa</td>\n",
              "      <td>Bournemouth</td>\n",
              "      <td>Away</td>\n",
              "      <td>Joshua King</td>\n",
              "      <td>2.0</td>\n",
              "      <td>NO</td>\n",
              "      <td>YES</td>\n",
              "      <td>NO</td>\n",
              "      <td>NO</td>\n",
              "      <td>YES</td>\n",
              "      <td>NO</td>\n",
              "      <td>OM</td>\n",
              "      <td>YES</td>\n",
              "      <td>NO</td>\n",
              "    </tr>\n",
              "    <tr>\n",
              "      <th>4</th>\n",
              "      <td>5</td>\n",
              "      <td>Premier League</td>\n",
              "      <td>2</td>\n",
              "      <td>2019-08-19</td>\n",
              "      <td>Wolverhampton</td>\n",
              "      <td>Manchester United</td>\n",
              "      <td>Away</td>\n",
              "      <td>Paul Pogba</td>\n",
              "      <td>68.0</td>\n",
              "      <td>NO</td>\n",
              "      <td>YES</td>\n",
              "      <td>NO</td>\n",
              "      <td>NO</td>\n",
              "      <td>NO</td>\n",
              "      <td>NO</td>\n",
              "      <td>DM</td>\n",
              "      <td>NO</td>\n",
              "      <td>YES</td>\n",
              "    </tr>\n",
              "    <tr>\n",
              "      <th>...</th>\n",
              "      <td>...</td>\n",
              "      <td>...</td>\n",
              "      <td>...</td>\n",
              "      <td>...</td>\n",
              "      <td>...</td>\n",
              "      <td>...</td>\n",
              "      <td>...</td>\n",
              "      <td>...</td>\n",
              "      <td>...</td>\n",
              "      <td>...</td>\n",
              "      <td>...</td>\n",
              "      <td>...</td>\n",
              "      <td>...</td>\n",
              "      <td>...</td>\n",
              "      <td>...</td>\n",
              "      <td>...</td>\n",
              "      <td>...</td>\n",
              "      <td>...</td>\n",
              "    </tr>\n",
              "    <tr>\n",
              "      <th>489</th>\n",
              "      <td>490</td>\n",
              "      <td>SERIE A</td>\n",
              "      <td>38</td>\n",
              "      <td>2021-08-01</td>\n",
              "      <td>Brescia</td>\n",
              "      <td>Sampdoria</td>\n",
              "      <td>Home</td>\n",
              "      <td>Ernesto Torregrosa</td>\n",
              "      <td>49.0</td>\n",
              "      <td>YES</td>\n",
              "      <td>NO</td>\n",
              "      <td>NO</td>\n",
              "      <td>NO</td>\n",
              "      <td>YES</td>\n",
              "      <td>NO</td>\n",
              "      <td>ST</td>\n",
              "      <td>NO</td>\n",
              "      <td>YES</td>\n",
              "    </tr>\n",
              "    <tr>\n",
              "      <th>490</th>\n",
              "      <td>491</td>\n",
              "      <td>SERIE A</td>\n",
              "      <td>38</td>\n",
              "      <td>2021-08-01</td>\n",
              "      <td>AC Milan</td>\n",
              "      <td>Cagliari</td>\n",
              "      <td>Home</td>\n",
              "      <td>Zlatan Ibrahimovic</td>\n",
              "      <td>44.0</td>\n",
              "      <td>NO</td>\n",
              "      <td>NO</td>\n",
              "      <td>NO</td>\n",
              "      <td>YES</td>\n",
              "      <td>NO</td>\n",
              "      <td>NO</td>\n",
              "      <td>ST</td>\n",
              "      <td>YES</td>\n",
              "      <td>NO</td>\n",
              "    </tr>\n",
              "    <tr>\n",
              "      <th>491</th>\n",
              "      <td>492</td>\n",
              "      <td>SERIE A</td>\n",
              "      <td>38</td>\n",
              "      <td>2021-08-01</td>\n",
              "      <td>Naples</td>\n",
              "      <td>Lazio</td>\n",
              "      <td>Home</td>\n",
              "      <td>Lorenzo Insigne</td>\n",
              "      <td>54.0</td>\n",
              "      <td>NO</td>\n",
              "      <td>YES</td>\n",
              "      <td>NO</td>\n",
              "      <td>NO</td>\n",
              "      <td>YES</td>\n",
              "      <td>NO</td>\n",
              "      <td>W</td>\n",
              "      <td>YES</td>\n",
              "      <td>NO</td>\n",
              "    </tr>\n",
              "    <tr>\n",
              "      <th>492</th>\n",
              "      <td>493</td>\n",
              "      <td>SERIE A</td>\n",
              "      <td>38</td>\n",
              "      <td>2021-08-01</td>\n",
              "      <td>Juventus</td>\n",
              "      <td>Roma</td>\n",
              "      <td>Away</td>\n",
              "      <td>Diego Perotti</td>\n",
              "      <td>44.0</td>\n",
              "      <td>NO</td>\n",
              "      <td>YES</td>\n",
              "      <td>NO</td>\n",
              "      <td>NO</td>\n",
              "      <td>YES</td>\n",
              "      <td>NO</td>\n",
              "      <td>W</td>\n",
              "      <td>YES</td>\n",
              "      <td>NO</td>\n",
              "    </tr>\n",
              "    <tr>\n",
              "      <th>493</th>\n",
              "      <td>494</td>\n",
              "      <td>SERIE A</td>\n",
              "      <td>38</td>\n",
              "      <td>2021-08-02</td>\n",
              "      <td>SPAL</td>\n",
              "      <td>Fiorentina</td>\n",
              "      <td>Away</td>\n",
              "      <td>Erick Pulgar</td>\n",
              "      <td>93.0</td>\n",
              "      <td>NO</td>\n",
              "      <td>NO</td>\n",
              "      <td>NO</td>\n",
              "      <td>YES</td>\n",
              "      <td>YES</td>\n",
              "      <td>NO</td>\n",
              "      <td>DM</td>\n",
              "      <td>YES</td>\n",
              "      <td>YES</td>\n",
              "    </tr>\n",
              "  </tbody>\n",
              "</table>\n",
              "<p>494 rows × 18 columns</p>\n",
              "</div>\n",
              "      <button class=\"colab-df-convert\" onclick=\"convertToInteractive('df-8dc4e157-ed36-430c-876a-1107dd40bef7')\"\n",
              "              title=\"Convert this dataframe to an interactive table.\"\n",
              "              style=\"display:none;\">\n",
              "        \n",
              "  <svg xmlns=\"http://www.w3.org/2000/svg\" height=\"24px\"viewBox=\"0 0 24 24\"\n",
              "       width=\"24px\">\n",
              "    <path d=\"M0 0h24v24H0V0z\" fill=\"none\"/>\n",
              "    <path d=\"M18.56 5.44l.94 2.06.94-2.06 2.06-.94-2.06-.94-.94-2.06-.94 2.06-2.06.94zm-11 1L8.5 8.5l.94-2.06 2.06-.94-2.06-.94L8.5 2.5l-.94 2.06-2.06.94zm10 10l.94 2.06.94-2.06 2.06-.94-2.06-.94-.94-2.06-.94 2.06-2.06.94z\"/><path d=\"M17.41 7.96l-1.37-1.37c-.4-.4-.92-.59-1.43-.59-.52 0-1.04.2-1.43.59L10.3 9.45l-7.72 7.72c-.78.78-.78 2.05 0 2.83L4 21.41c.39.39.9.59 1.41.59.51 0 1.02-.2 1.41-.59l7.78-7.78 2.81-2.81c.8-.78.8-2.07 0-2.86zM5.41 20L4 18.59l7.72-7.72 1.47 1.35L5.41 20z\"/>\n",
              "  </svg>\n",
              "      </button>\n",
              "      \n",
              "  <style>\n",
              "    .colab-df-container {\n",
              "      display:flex;\n",
              "      flex-wrap:wrap;\n",
              "      gap: 12px;\n",
              "    }\n",
              "\n",
              "    .colab-df-convert {\n",
              "      background-color: #E8F0FE;\n",
              "      border: none;\n",
              "      border-radius: 50%;\n",
              "      cursor: pointer;\n",
              "      display: none;\n",
              "      fill: #1967D2;\n",
              "      height: 32px;\n",
              "      padding: 0 0 0 0;\n",
              "      width: 32px;\n",
              "    }\n",
              "\n",
              "    .colab-df-convert:hover {\n",
              "      background-color: #E2EBFA;\n",
              "      box-shadow: 0px 1px 2px rgba(60, 64, 67, 0.3), 0px 1px 3px 1px rgba(60, 64, 67, 0.15);\n",
              "      fill: #174EA6;\n",
              "    }\n",
              "\n",
              "    [theme=dark] .colab-df-convert {\n",
              "      background-color: #3B4455;\n",
              "      fill: #D2E3FC;\n",
              "    }\n",
              "\n",
              "    [theme=dark] .colab-df-convert:hover {\n",
              "      background-color: #434B5C;\n",
              "      box-shadow: 0px 1px 3px 1px rgba(0, 0, 0, 0.15);\n",
              "      filter: drop-shadow(0px 1px 2px rgba(0, 0, 0, 0.3));\n",
              "      fill: #FFFFFF;\n",
              "    }\n",
              "  </style>\n",
              "\n",
              "      <script>\n",
              "        const buttonEl =\n",
              "          document.querySelector('#df-8dc4e157-ed36-430c-876a-1107dd40bef7 button.colab-df-convert');\n",
              "        buttonEl.style.display =\n",
              "          google.colab.kernel.accessAllowed ? 'block' : 'none';\n",
              "\n",
              "        async function convertToInteractive(key) {\n",
              "          const element = document.querySelector('#df-8dc4e157-ed36-430c-876a-1107dd40bef7');\n",
              "          const dataTable =\n",
              "            await google.colab.kernel.invokeFunction('convertToInteractive',\n",
              "                                                     [key], {});\n",
              "          if (!dataTable) return;\n",
              "\n",
              "          const docLinkHtml = 'Like what you see? Visit the ' +\n",
              "            '<a target=\"_blank\" href=https://colab.research.google.com/notebooks/data_table.ipynb>data table notebook</a>'\n",
              "            + ' to learn more about interactive tables.';\n",
              "          element.innerHTML = '';\n",
              "          dataTable['output_type'] = 'display_data';\n",
              "          await google.colab.output.renderOutput(dataTable, element);\n",
              "          const docLink = document.createElement('div');\n",
              "          docLink.innerHTML = docLinkHtml;\n",
              "          element.appendChild(docLink);\n",
              "        }\n",
              "      </script>\n",
              "    </div>\n",
              "  </div>\n",
              "  "
            ]
          },
          "metadata": {},
          "execution_count": 47
        }
      ]
    },
    {
      "cell_type": "code",
      "source": [
        "alldata=pd.DataFrame()\n",
        "alldata=df\n",
        "print(alldata)"
      ],
      "metadata": {
        "colab": {
          "base_uri": "https://localhost:8080/"
        },
        "id": "uKcJMeOQk33z",
        "outputId": "b2d4e7da-b11d-4808-f0e7-0ee8079c5029"
      },
      "execution_count": 48,
      "outputs": [
        {
          "output_type": "stream",
          "name": "stdout",
          "text": [
            "      Id     Competition Journee       Date          Home_team  \\\n",
            "0      1  Premier League       1 2019-08-10           West Ham   \n",
            "1      2  Premier League       1 2019-08-10           West Ham   \n",
            "2      3  Premier League       1 2019-08-11  Manchester United   \n",
            "3      4  Premier League       2 2019-08-17        Aston Villa   \n",
            "4      5  Premier League       2 2019-08-19      Wolverhampton   \n",
            "..   ...             ...     ...        ...                ...   \n",
            "489  490         SERIE A      38 2021-08-01            Brescia   \n",
            "490  491         SERIE A      38 2021-08-01           AC Milan   \n",
            "491  492         SERIE A      38 2021-08-01             Naples   \n",
            "492  493         SERIE A      38 2021-08-01           Juventus   \n",
            "493  494         SERIE A      38 2021-08-02               SPAL   \n",
            "\n",
            "             Away_team Team_taking_pen           Pen_taker  Minute  \\\n",
            "0      Manchester City            Away       Sergio Aguero    84.0   \n",
            "1      Manchester City            Away       Sergio Aguero    86.0   \n",
            "2              Chelsea            Home     Marcus Rashford    18.0   \n",
            "3          Bournemouth            Away         Joshua King     2.0   \n",
            "4    Manchester United            Away          Paul Pogba    68.0   \n",
            "..                 ...             ...                 ...     ...   \n",
            "489          Sampdoria            Home  Ernesto Torregrosa    49.0   \n",
            "490           Cagliari            Home  Zlatan Ibrahimovic    44.0   \n",
            "491              Lazio            Home     Lorenzo Insigne    54.0   \n",
            "492               Roma            Away       Diego Perotti    44.0   \n",
            "493         Fiorentina            Away        Erick Pulgar    93.0   \n",
            "\n",
            "    LtD_game-changing_pen DtW_game-changing _pen L_no_game-changing  \\\n",
            "0                      NO                     NO                 NO   \n",
            "1                      NO                     NO                 NO   \n",
            "2                      NO                    YES                 NO   \n",
            "3                      NO                    YES                 NO   \n",
            "4                      NO                    YES                 NO   \n",
            "..                    ...                    ...                ...   \n",
            "489                   YES                     NO                 NO   \n",
            "490                    NO                     NO                 NO   \n",
            "491                    NO                    YES                 NO   \n",
            "492                    NO                    YES                 NO   \n",
            "493                    NO                     NO                 NO   \n",
            "\n",
            "    W_no_game-changing Scored PT_sub PT_position Team_win Last_Goal  \n",
            "0                  YES     NO    YES          ST      YES        NO  \n",
            "1                  YES    YES    YES          ST      YES        NO  \n",
            "2                   NO    YES     NO           W      YES        NO  \n",
            "3                   NO    YES     NO          OM      YES        NO  \n",
            "4                   NO     NO     NO          DM       NO       YES  \n",
            "..                 ...    ...    ...         ...      ...       ...  \n",
            "489                 NO    YES     NO          ST       NO       YES  \n",
            "490                YES     NO     NO          ST      YES        NO  \n",
            "491                 NO    YES     NO           W      YES        NO  \n",
            "492                 NO    YES     NO           W      YES        NO  \n",
            "493                YES    YES     NO          DM      YES       YES  \n",
            "\n",
            "[494 rows x 18 columns]\n"
          ]
        }
      ]
    },
    {
      "cell_type": "markdown",
      "source": [
        "##I start by cleaning up the data:\n",
        "\n",
        "*   Remove blank boxes\n",
        "*   Check column types\n",
        "*   Delete columns I will not use\n",
        "*   Group 2 columns to create a 'Decision' column\n",
        "\n",
        "\n",
        "\n"
      ],
      "metadata": {
        "id": "Di8rYem_RGnc"
      }
    },
    {
      "cell_type": "code",
      "source": [
        "#supprimer les cases vides\n",
        "alldata.isnull().sum()\n",
        "alldata=alldata.dropna(how='all')"
      ],
      "metadata": {
        "id": "sPkJZVo9my47"
      },
      "execution_count": 49,
      "outputs": []
    },
    {
      "cell_type": "code",
      "source": [
        "print(alldata.dtypes)"
      ],
      "metadata": {
        "colab": {
          "base_uri": "https://localhost:8080/"
        },
        "id": "0THdYzPGoeLi",
        "outputId": "305db172-a856-423a-eb0a-06e7edc637fc"
      },
      "execution_count": 50,
      "outputs": [
        {
          "output_type": "stream",
          "name": "stdout",
          "text": [
            "Id                                 int64\n",
            "Competition                       object\n",
            "Journee                           object\n",
            "Date                      datetime64[ns]\n",
            "Home_team                         object\n",
            "Away_team                         object\n",
            "Team_taking_pen                   object\n",
            "Pen_taker                         object\n",
            "Minute                           float64\n",
            "LtD_game-changing_pen             object\n",
            "DtW_game-changing _pen            object\n",
            "L_no_game-changing                object\n",
            "W_no_game-changing                object\n",
            "Scored                            object\n",
            "PT_sub                            object\n",
            "PT_position                       object\n",
            "Team_win                          object\n",
            "Last_Goal                         object\n",
            "dtype: object\n"
          ]
        }
      ]
    },
    {
      "cell_type": "code",
      "source": [
        "#Regroup 2 columns in 1 named 'Decisive'\n",
        "\n",
        "alldata.loc[alldata[('LtD_game-changing_pen')]=='YES', 'Decisive']='YES'\n",
        "alldata.loc[alldata[('DtW_game-changing _pen') ]=='YES', 'Decisive']='YES'\n",
        "\n",
        "alldata=alldata.drop(columns=['LtD_game-changing_pen','DtW_game-changing _pen','L_no_game-changing','W_no_game-changing'], axis=1)"
      ],
      "metadata": {
        "id": "76f1MgW2NH7F"
      },
      "execution_count": 51,
      "outputs": []
    },
    {
      "cell_type": "code",
      "source": [
        "print(alldata)"
      ],
      "metadata": {
        "colab": {
          "base_uri": "https://localhost:8080/"
        },
        "id": "SbY1kfTHVCk9",
        "outputId": "419ddda1-fd25-4fcd-a5aa-d5bb5cb8f157"
      },
      "execution_count": 52,
      "outputs": [
        {
          "output_type": "stream",
          "name": "stdout",
          "text": [
            "      Id     Competition Journee       Date          Home_team  \\\n",
            "0      1  Premier League       1 2019-08-10           West Ham   \n",
            "1      2  Premier League       1 2019-08-10           West Ham   \n",
            "2      3  Premier League       1 2019-08-11  Manchester United   \n",
            "3      4  Premier League       2 2019-08-17        Aston Villa   \n",
            "4      5  Premier League       2 2019-08-19      Wolverhampton   \n",
            "..   ...             ...     ...        ...                ...   \n",
            "489  490         SERIE A      38 2021-08-01            Brescia   \n",
            "490  491         SERIE A      38 2021-08-01           AC Milan   \n",
            "491  492         SERIE A      38 2021-08-01             Naples   \n",
            "492  493         SERIE A      38 2021-08-01           Juventus   \n",
            "493  494         SERIE A      38 2021-08-02               SPAL   \n",
            "\n",
            "             Away_team Team_taking_pen           Pen_taker  Minute Scored  \\\n",
            "0      Manchester City            Away       Sergio Aguero    84.0     NO   \n",
            "1      Manchester City            Away       Sergio Aguero    86.0    YES   \n",
            "2              Chelsea            Home     Marcus Rashford    18.0    YES   \n",
            "3          Bournemouth            Away         Joshua King     2.0    YES   \n",
            "4    Manchester United            Away          Paul Pogba    68.0     NO   \n",
            "..                 ...             ...                 ...     ...    ...   \n",
            "489          Sampdoria            Home  Ernesto Torregrosa    49.0    YES   \n",
            "490           Cagliari            Home  Zlatan Ibrahimovic    44.0     NO   \n",
            "491              Lazio            Home     Lorenzo Insigne    54.0    YES   \n",
            "492               Roma            Away       Diego Perotti    44.0    YES   \n",
            "493         Fiorentina            Away        Erick Pulgar    93.0    YES   \n",
            "\n",
            "    PT_sub PT_position Team_win Last_Goal Decisive  \n",
            "0      YES          ST      YES        NO      NaN  \n",
            "1      YES          ST      YES        NO      NaN  \n",
            "2       NO           W      YES        NO      YES  \n",
            "3       NO          OM      YES        NO      YES  \n",
            "4       NO          DM       NO       YES      YES  \n",
            "..     ...         ...      ...       ...      ...  \n",
            "489     NO          ST       NO       YES      YES  \n",
            "490     NO          ST      YES        NO      NaN  \n",
            "491     NO           W      YES        NO      YES  \n",
            "492     NO           W      YES        NO      YES  \n",
            "493     NO          DM      YES       YES      NaN  \n",
            "\n",
            "[494 rows x 15 columns]\n"
          ]
        }
      ]
    },
    {
      "cell_type": "markdown",
      "source": [
        "#I Pressure\n",
        "##a) Difference between Home and Away pressure \n",
        "##b) Champions league pression\n",
        "##c) Max pressure\n",
        "\n",
        "\n"
      ],
      "metadata": {
        "id": "FYjeILIArewK"
      }
    },
    {
      "cell_type": "markdown",
      "source": [
        "\n",
        "###In this part, I manipulate the data to derive information on the consequence of pressure on the success percentage of penaltys"
      ],
      "metadata": {
        "id": "qm7SflZVUyfp"
      }
    },
    {
      "cell_type": "code",
      "source": [
        "#a) Difference between Home and away pressure\n",
        "\n",
        "HM=0\n",
        "AM=0\n",
        "\n",
        "nb_goal_home=0\n",
        "nb_goal_away=0\n",
        "\n",
        "for i in range(0,494):\n",
        "  if alldata.iloc[i,6]=='Home':\n",
        "    HM=HM+1\n",
        "  if alldata.iloc[i,6]=='Away':\n",
        "    AM=AM+1\n",
        "  if alldata.iloc[i,9]=='YES'and alldata.iloc[i,6]=='Home':\n",
        "    nb_goal_home=nb_goal_home+1\n",
        "\n",
        "  if alldata.iloc[i,9]=='YES'and alldata.iloc[i,6]=='Away':\n",
        "    nb_goal_away=nb_goal_away+1\n",
        "\n",
        "\n",
        "PHM = (nb_goal_home /HM)*100\n",
        "PAM = (nb_goal_away /AM)*100\n",
        "\n",
        "print(\"Percentage of penalties scored in home team : %.2f\"% PHM,\"%\",\"\\n\"\n",
        "      \"Percenetage of penalties scored in away team : %.2f\"% PAM, \"%\")"
      ],
      "metadata": {
        "colab": {
          "base_uri": "https://localhost:8080/"
        },
        "id": "xn-zRdN4pLlp",
        "outputId": "6ddb8e43-7d9e-47fe-e754-80172f9dbd92"
      },
      "execution_count": 94,
      "outputs": [
        {
          "output_type": "stream",
          "name": "stdout",
          "text": [
            "Percentage of penalties scored in home team : 80.93 % \n",
            "Percenetage of penalties scored in away team : 74.26 %\n"
          ]
        }
      ]
    },
    {
      "cell_type": "markdown",
      "source": [
        "We can conclude that the pressure of the Away teams fans have a consquence of 6.67%"
      ],
      "metadata": {
        "id": "0ezez0cqv6eG"
      }
    },
    {
      "cell_type": "code",
      "source": [
        "#b) Champions League pressure\n",
        "\n",
        "nb_goal_CL=0\n",
        "nb_goal_CH=0\n",
        "\n",
        "for i in range(0,186):\n",
        "  if alldata.iloc[i,9]=='YES':\n",
        "    nb_goal_CH=nb_goal_CH+1\n",
        "\n",
        "for i in range(233,494):\n",
        "  if alldata.iloc[i,9]=='YES':\n",
        "    nb_goal_CH=nb_goal_CH+1\n",
        "\n",
        "for i in range(187,232):\n",
        "  if alldata.iloc[i,9]=='YES':\n",
        "    nb_goal_CL=nb_goal_CL+1   \n",
        "\n",
        "#Champion's league matchs\n",
        "CLM=232-187\n",
        "PCL=(nb_goal_CL/CLM)*100\n",
        "\n",
        "CHM=494-CLM\n",
        "PCH=(nb_goal_CH/CHM)*100\n",
        "\n",
        "print(\"Penalty's percentage in Champion's league matchs : %.2f\"% PCL,\"%\", \"\\n\"\n",
        "      \"Penalty's percentage in Championship : %.2f\"% PCH,\"%\" )"
      ],
      "metadata": {
        "colab": {
          "base_uri": "https://localhost:8080/"
        },
        "id": "4a1XdrvDL5M0",
        "outputId": "3fbd9150-88ae-41d5-88e9-634a6edf43cf"
      },
      "execution_count": 54,
      "outputs": [
        {
          "output_type": "stream",
          "name": "stdout",
          "text": [
            "Penalty's percentage in Champion's league matchs : 77.78 % \n",
            "Penalty's percentage in Championship : 77.28 %\n"
          ]
        }
      ]
    },
    {
      "cell_type": "code",
      "source": [
        "print(alldata)"
      ],
      "metadata": {
        "colab": {
          "base_uri": "https://localhost:8080/"
        },
        "id": "uNbLJgp04coM",
        "outputId": "7db05fab-417a-4113-e164-5d502951d0ac"
      },
      "execution_count": 55,
      "outputs": [
        {
          "output_type": "stream",
          "name": "stdout",
          "text": [
            "      Id     Competition Journee       Date          Home_team  \\\n",
            "0      1  Premier League       1 2019-08-10           West Ham   \n",
            "1      2  Premier League       1 2019-08-10           West Ham   \n",
            "2      3  Premier League       1 2019-08-11  Manchester United   \n",
            "3      4  Premier League       2 2019-08-17        Aston Villa   \n",
            "4      5  Premier League       2 2019-08-19      Wolverhampton   \n",
            "..   ...             ...     ...        ...                ...   \n",
            "489  490         SERIE A      38 2021-08-01            Brescia   \n",
            "490  491         SERIE A      38 2021-08-01           AC Milan   \n",
            "491  492         SERIE A      38 2021-08-01             Naples   \n",
            "492  493         SERIE A      38 2021-08-01           Juventus   \n",
            "493  494         SERIE A      38 2021-08-02               SPAL   \n",
            "\n",
            "             Away_team Team_taking_pen           Pen_taker  Minute Scored  \\\n",
            "0      Manchester City            Away       Sergio Aguero    84.0     NO   \n",
            "1      Manchester City            Away       Sergio Aguero    86.0    YES   \n",
            "2              Chelsea            Home     Marcus Rashford    18.0    YES   \n",
            "3          Bournemouth            Away         Joshua King     2.0    YES   \n",
            "4    Manchester United            Away          Paul Pogba    68.0     NO   \n",
            "..                 ...             ...                 ...     ...    ...   \n",
            "489          Sampdoria            Home  Ernesto Torregrosa    49.0    YES   \n",
            "490           Cagliari            Home  Zlatan Ibrahimovic    44.0     NO   \n",
            "491              Lazio            Home     Lorenzo Insigne    54.0    YES   \n",
            "492               Roma            Away       Diego Perotti    44.0    YES   \n",
            "493         Fiorentina            Away        Erick Pulgar    93.0    YES   \n",
            "\n",
            "    PT_sub PT_position Team_win Last_Goal Decisive  \n",
            "0      YES          ST      YES        NO      NaN  \n",
            "1      YES          ST      YES        NO      NaN  \n",
            "2       NO           W      YES        NO      YES  \n",
            "3       NO          OM      YES        NO      YES  \n",
            "4       NO          DM       NO       YES      YES  \n",
            "..     ...         ...      ...       ...      ...  \n",
            "489     NO          ST       NO       YES      YES  \n",
            "490     NO          ST      YES        NO      NaN  \n",
            "491     NO           W      YES        NO      YES  \n",
            "492     NO           W      YES        NO      YES  \n",
            "493     NO          DM      YES       YES      NaN  \n",
            "\n",
            "[494 rows x 15 columns]\n"
          ]
        }
      ]
    },
    {
      "cell_type": "code",
      "source": [
        "#c) Max pression \n",
        "\n",
        "goal_max_pression=0\n",
        "goalscored=0\n",
        "MMP=0\n",
        "\n",
        "for i in range (0, 494):\n",
        "  if alldata.iloc[i,14] =='YES':\n",
        "    alldata.loc[alldata['Minute']>79, 'Cluctch']='YES'\n",
        "    MMP=MMP+1\n",
        "\n",
        "for i in range (0, 494):\n",
        "  if alldata.iloc[i,15] =='YES'and alldata.iloc[i,9]=='YES':\n",
        "    goal_max_pression=goal_max_pression+1\n",
        "\n",
        "for i in range (0, 494):\n",
        "  if alldata.iloc[i,9] =='YES':\n",
        "    goalscored=goalscored+1\n",
        "\n",
        "PG=(goalscored/495)*100\n",
        "PMP=(goal_max_pression/90)*100\n",
        "\n",
        "\n",
        "print(\"Total Penalty's percentage : %.2f\"% PG,\"%\", \"\\n\"\n",
        "      \"Max pression penalty's percentage : %.2f\"% PMP,\"%\")\n"
      ],
      "metadata": {
        "id": "3f749OE6SNWR",
        "colab": {
          "base_uri": "https://localhost:8080/"
        },
        "outputId": "266d55ab-be80-44f9-e330-4f6b4b836a1d"
      },
      "execution_count": 56,
      "outputs": [
        {
          "output_type": "stream",
          "name": "stdout",
          "text": [
            "Total Penalty's percentage : 77.58 % \n",
            "Max pression penalty's percentage : 76.67 %\n"
          ]
        }
      ]
    },
    {
      "cell_type": "code",
      "source": [
        "alldata['Cluctch'].describe()"
      ],
      "metadata": {
        "colab": {
          "base_uri": "https://localhost:8080/"
        },
        "id": "aqTLNnGmHCVE",
        "outputId": "10389099-db48-4d39-9ec8-5a19c52162e3"
      },
      "execution_count": 57,
      "outputs": [
        {
          "output_type": "execute_result",
          "data": {
            "text/plain": [
              "count      90\n",
              "unique      1\n",
              "top       YES\n",
              "freq       90\n",
              "Name: Cluctch, dtype: object"
            ]
          },
          "metadata": {},
          "execution_count": 57
        }
      ]
    },
    {
      "cell_type": "code",
      "source": [
        "print(alldata)"
      ],
      "metadata": {
        "colab": {
          "base_uri": "https://localhost:8080/"
        },
        "id": "A4ckJDwieS7W",
        "outputId": "f05d12cc-1fa3-4988-d0bf-6457e00ae7eb"
      },
      "execution_count": 58,
      "outputs": [
        {
          "output_type": "stream",
          "name": "stdout",
          "text": [
            "      Id     Competition Journee       Date          Home_team  \\\n",
            "0      1  Premier League       1 2019-08-10           West Ham   \n",
            "1      2  Premier League       1 2019-08-10           West Ham   \n",
            "2      3  Premier League       1 2019-08-11  Manchester United   \n",
            "3      4  Premier League       2 2019-08-17        Aston Villa   \n",
            "4      5  Premier League       2 2019-08-19      Wolverhampton   \n",
            "..   ...             ...     ...        ...                ...   \n",
            "489  490         SERIE A      38 2021-08-01            Brescia   \n",
            "490  491         SERIE A      38 2021-08-01           AC Milan   \n",
            "491  492         SERIE A      38 2021-08-01             Naples   \n",
            "492  493         SERIE A      38 2021-08-01           Juventus   \n",
            "493  494         SERIE A      38 2021-08-02               SPAL   \n",
            "\n",
            "             Away_team Team_taking_pen           Pen_taker  Minute Scored  \\\n",
            "0      Manchester City            Away       Sergio Aguero    84.0     NO   \n",
            "1      Manchester City            Away       Sergio Aguero    86.0    YES   \n",
            "2              Chelsea            Home     Marcus Rashford    18.0    YES   \n",
            "3          Bournemouth            Away         Joshua King     2.0    YES   \n",
            "4    Manchester United            Away          Paul Pogba    68.0     NO   \n",
            "..                 ...             ...                 ...     ...    ...   \n",
            "489          Sampdoria            Home  Ernesto Torregrosa    49.0    YES   \n",
            "490           Cagliari            Home  Zlatan Ibrahimovic    44.0     NO   \n",
            "491              Lazio            Home     Lorenzo Insigne    54.0    YES   \n",
            "492               Roma            Away       Diego Perotti    44.0    YES   \n",
            "493         Fiorentina            Away        Erick Pulgar    93.0    YES   \n",
            "\n",
            "    PT_sub PT_position Team_win Last_Goal Decisive Cluctch  \n",
            "0      YES          ST      YES        NO      NaN     YES  \n",
            "1      YES          ST      YES        NO      NaN     YES  \n",
            "2       NO           W      YES        NO      YES     NaN  \n",
            "3       NO          OM      YES        NO      YES     NaN  \n",
            "4       NO          DM       NO       YES      YES     NaN  \n",
            "..     ...         ...      ...       ...      ...     ...  \n",
            "489     NO          ST       NO       YES      YES     NaN  \n",
            "490     NO          ST      YES        NO      NaN     NaN  \n",
            "491     NO           W      YES        NO      YES     NaN  \n",
            "492     NO           W      YES        NO      YES     NaN  \n",
            "493     NO          DM      YES       YES      NaN     YES  \n",
            "\n",
            "[494 rows x 16 columns]\n"
          ]
        }
      ]
    },
    {
      "cell_type": "markdown",
      "source": [
        "#II Penalty taker\n",
        "##a) Players who take and score the most penalties\n",
        "##b) Club which take the most penalties\n",
        "##c) The player positions which score the more"
      ],
      "metadata": {
        "id": "pgwxv2nAa8aK"
      }
    },
    {
      "cell_type": "markdown",
      "source": [
        "### The second part, I work on information about penalty takers"
      ],
      "metadata": {
        "id": "KZZB45OAYZTD"
      }
    },
    {
      "cell_type": "code",
      "source": [
        "#a) Players who take the most number of penalties \n",
        "\n",
        "alldata['Pen_taker'].value_counts()"
      ],
      "metadata": {
        "colab": {
          "base_uri": "https://localhost:8080/"
        },
        "id": "4Y1dEmGYDKAi",
        "outputId": "bb37a002-2712-4f78-905b-d752858f1ecf"
      },
      "execution_count": 59,
      "outputs": [
        {
          "output_type": "execute_result",
          "data": {
            "text/plain": [
              "Ciro Immobile        15\n",
              "Cristiano Ronaldo    14\n",
              "Marco Mancosu        11\n",
              "Domenico Criscito    10\n",
              "Marcus Rashford       8\n",
              "                     ..\n",
              "Ross Barkley          1\n",
              "Mathieu Valbuena      1\n",
              "Mislav Orsic          1\n",
              "Mbaye Diagne          1\n",
              "Amadou Diawara        1\n",
              "Name: Pen_taker, Length: 217, dtype: int64"
            ]
          },
          "metadata": {},
          "execution_count": 59
        }
      ]
    },
    {
      "cell_type": "code",
      "source": [
        "#Players who score the most number of penalties \n",
        "\n",
        "alldata['Pen_taker'][alldata['Scored']=='YES'].value_counts()"
      ],
      "metadata": {
        "colab": {
          "base_uri": "https://localhost:8080/"
        },
        "id": "iESZaz3pZ97S",
        "outputId": "c8312774-7a24-4da5-b96c-7f1f85d6d418"
      },
      "execution_count": 60,
      "outputs": [
        {
          "output_type": "execute_result",
          "data": {
            "text/plain": [
              "Ciro Immobile         14\n",
              "Cristiano Ronaldo     13\n",
              "Marco Mancosu          9\n",
              "Robert Lewandowski     7\n",
              "Andrea Belotti         7\n",
              "                      ..\n",
              "Jonathan Ikone         1\n",
              "Yaya Sanogo            1\n",
              "Ferris Ngoma           1\n",
              "Aaron Leya Iseka       1\n",
              "Amadou Diawara         1\n",
              "Name: Pen_taker, Length: 180, dtype: int64"
            ]
          },
          "metadata": {},
          "execution_count": 60
        }
      ]
    },
    {
      "cell_type": "code",
      "source": [
        "print(alldata)"
      ],
      "metadata": {
        "colab": {
          "base_uri": "https://localhost:8080/"
        },
        "id": "-sV6cWP-Jyo3",
        "outputId": "0cf00237-fa3a-4ec8-c187-53a5e77bda5d"
      },
      "execution_count": 61,
      "outputs": [
        {
          "output_type": "stream",
          "name": "stdout",
          "text": [
            "      Id     Competition Journee       Date          Home_team  \\\n",
            "0      1  Premier League       1 2019-08-10           West Ham   \n",
            "1      2  Premier League       1 2019-08-10           West Ham   \n",
            "2      3  Premier League       1 2019-08-11  Manchester United   \n",
            "3      4  Premier League       2 2019-08-17        Aston Villa   \n",
            "4      5  Premier League       2 2019-08-19      Wolverhampton   \n",
            "..   ...             ...     ...        ...                ...   \n",
            "489  490         SERIE A      38 2021-08-01            Brescia   \n",
            "490  491         SERIE A      38 2021-08-01           AC Milan   \n",
            "491  492         SERIE A      38 2021-08-01             Naples   \n",
            "492  493         SERIE A      38 2021-08-01           Juventus   \n",
            "493  494         SERIE A      38 2021-08-02               SPAL   \n",
            "\n",
            "             Away_team Team_taking_pen           Pen_taker  Minute Scored  \\\n",
            "0      Manchester City            Away       Sergio Aguero    84.0     NO   \n",
            "1      Manchester City            Away       Sergio Aguero    86.0    YES   \n",
            "2              Chelsea            Home     Marcus Rashford    18.0    YES   \n",
            "3          Bournemouth            Away         Joshua King     2.0    YES   \n",
            "4    Manchester United            Away          Paul Pogba    68.0     NO   \n",
            "..                 ...             ...                 ...     ...    ...   \n",
            "489          Sampdoria            Home  Ernesto Torregrosa    49.0    YES   \n",
            "490           Cagliari            Home  Zlatan Ibrahimovic    44.0     NO   \n",
            "491              Lazio            Home     Lorenzo Insigne    54.0    YES   \n",
            "492               Roma            Away       Diego Perotti    44.0    YES   \n",
            "493         Fiorentina            Away        Erick Pulgar    93.0    YES   \n",
            "\n",
            "    PT_sub PT_position Team_win Last_Goal Decisive Cluctch  \n",
            "0      YES          ST      YES        NO      NaN     YES  \n",
            "1      YES          ST      YES        NO      NaN     YES  \n",
            "2       NO           W      YES        NO      YES     NaN  \n",
            "3       NO          OM      YES        NO      YES     NaN  \n",
            "4       NO          DM       NO       YES      YES     NaN  \n",
            "..     ...         ...      ...       ...      ...     ...  \n",
            "489     NO          ST       NO       YES      YES     NaN  \n",
            "490     NO          ST      YES        NO      NaN     NaN  \n",
            "491     NO           W      YES        NO      YES     NaN  \n",
            "492     NO           W      YES        NO      YES     NaN  \n",
            "493     NO          DM      YES       YES      NaN     YES  \n",
            "\n",
            "[494 rows x 16 columns]\n"
          ]
        }
      ]
    },
    {
      "cell_type": "code",
      "source": [
        "#b) Team which gets the most number of penalties\n",
        "\n",
        "\n",
        "Teampen=alldata['Home_team'][alldata['Team_taking_pen']=='Home' ].value_counts() + alldata['Away_team'][alldata['Team_taking_pen']=='Away'].value_counts()\n",
        "\n",
        "Teampen=Teampen.sort_values(ascending=False)[:10]\n",
        "Teampen\n",
        "\n",
        "\n",
        "#plt.show()\n"
      ],
      "metadata": {
        "colab": {
          "base_uri": "https://localhost:8080/"
        },
        "id": "qIIRnFVfbg7P",
        "outputId": "fa0403b2-e88c-4087-b4e7-5a34f0eed583"
      },
      "execution_count": 62,
      "outputs": [
        {
          "output_type": "execute_result",
          "data": {
            "text/plain": [
              "Lazio                18.0\n",
              "Atalanta             15.0\n",
              "Juventus             15.0\n",
              "Manchester City      15.0\n",
              "Lecce                15.0\n",
              "Roma                 14.0\n",
              "Manchester United    14.0\n",
              "Genoa                13.0\n",
              "Inter Milan          12.0\n",
              "Sampdoria            11.0\n",
              "dtype: float64"
            ]
          },
          "metadata": {},
          "execution_count": 62
        }
      ]
    },
    {
      "cell_type": "code",
      "source": [
        "plt.bar(Teampen.index, Teampen.values)\n",
        "plt.title('The clubs which obtain the most number of penalties')\n",
        "plt.xlabel('Clubs')\n",
        "plt.ylabel('Number of penalties')\n",
        "plt.tick_params(axis='x', labelsize=7)\n",
        "plt.show()"
      ],
      "metadata": {
        "colab": {
          "base_uri": "https://localhost:8080/",
          "height": 291
        },
        "id": "MqO8DKmL7rpi",
        "outputId": "c2433974-dd9a-49a8-a27c-33273557688c"
      },
      "execution_count": 63,
      "outputs": [
        {
          "output_type": "display_data",
          "data": {
            "text/plain": [
              "<Figure size 432x288 with 1 Axes>"
            ],
            "image/png": "[encoded data removed]"
          },
          "metadata": {
            "needs_background": "light"
          }
        }
      ]
    },
    {
      "cell_type": "markdown",
      "source": [
        "###The team which gets the most number of penalties in those championships is 'Lazio' with 18 penalties. We see that in the top 5 there is 4 Serie A teams. So let's compare the number of penalties obtained in the differents Championships."
      ],
      "metadata": {
        "id": "iqvkigBO3n_G"
      }
    },
    {
      "cell_type": "code",
      "source": [
        "alldata['Competition'].value_counts()"
      ],
      "metadata": {
        "colab": {
          "base_uri": "https://localhost:8080/"
        },
        "id": "1hcIP6Iyq1OM",
        "outputId": "9677b431-c570-4ce3-f2ca-d12734defbf1"
      },
      "execution_count": 64,
      "outputs": [
        {
          "output_type": "execute_result",
          "data": {
            "text/plain": [
              "SERIE A             188\n",
              "Premier League       95\n",
              "Ligue 1              92\n",
              "Bundesliga           73\n",
              "Champions league     46\n",
              "Name: Competition, dtype: int64"
            ]
          },
          "metadata": {},
          "execution_count": 64
        }
      ]
    },
    {
      "cell_type": "markdown",
      "source": [
        "###Serie A competition is by far the first Championship in number of penalties taked. Serie A have more penalties taked that Premier League and Ligue 1 combined."
      ],
      "metadata": {
        "id": "Ekvlwxieq5e_"
      }
    },
    {
      "cell_type": "code",
      "source": [
        "C=alldata['Competition'].value_counts()\n",
        "plt.pie(C, labels=C.index)\n",
        "plt.title('Distribution of penalties between Competitions')\n",
        "plt.axis('equal')\n",
        "plt.show()"
      ],
      "metadata": {
        "colab": {
          "base_uri": "https://localhost:8080/",
          "height": 264
        },
        "id": "Eqz2bljAhHik",
        "outputId": "02eb238a-e883-4b1d-ae1e-57ece9934f7c"
      },
      "execution_count": 65,
      "outputs": [
        {
          "output_type": "display_data",
          "data": {
            "text/plain": [
              "<Figure size 432x288 with 1 Axes>"
            ],
            "image/png": "[encoded data removed]"
          },
          "metadata": {}
        }
      ]
    },
    {
      "cell_type": "code",
      "source": [
        "\n",
        "#alldata['Competition'][alldata['Competition']=='SERIE A'].value_counts()\n",
        "Pleague=pd.DataFrame()\n",
        "Pleague=alldata['Competition']=='Premier League'\n",
        "#Pleague['Home_team'][Pleague['Team_taking_pen']=='Home'].value_counts()# + alldata['Away_team'][alldata['Team_taking_pen']=='Away'].value_counts()\n",
        "print(Pleague)\n",
        "#PLeague\n"
      ],
      "metadata": {
        "colab": {
          "base_uri": "https://localhost:8080/"
        },
        "id": "een-WMK7uIgx",
        "outputId": "a28870bd-5590-432f-cc56-102cad701fcb"
      },
      "execution_count": 76,
      "outputs": [
        {
          "output_type": "stream",
          "name": "stdout",
          "text": [
            "0       True\n",
            "1       True\n",
            "2       True\n",
            "3       True\n",
            "4       True\n",
            "       ...  \n",
            "489    False\n",
            "490    False\n",
            "491    False\n",
            "492    False\n",
            "493    False\n",
            "Name: Competition, Length: 494, dtype: bool\n"
          ]
        }
      ]
    },
    {
      "cell_type": "code",
      "source": [
        "#alldata.Competition.value_counts\n",
        "alldata['Competition'].value_counts()"
      ],
      "metadata": {
        "colab": {
          "base_uri": "https://localhost:8080/"
        },
        "id": "fNgxe0dgqxQ4",
        "outputId": "b6d0dbc1-b279-4ee2-ea65-cff4d880bab1"
      },
      "execution_count": 81,
      "outputs": [
        {
          "output_type": "execute_result",
          "data": {
            "text/plain": [
              "SERIE A             188\n",
              "Premier League       95\n",
              "Ligue 1              92\n",
              "Bundesliga           73\n",
              "Champions league     46\n",
              "Name: Competition, dtype: int64"
            ]
          },
          "metadata": {},
          "execution_count": 81
        }
      ]
    },
    {
      "cell_type": "code",
      "source": [
        "#c) The player positions which score the more\n",
        "\n",
        "alldata['PT_position'][alldata['Scored']=='YES'].value_counts()"
      ],
      "metadata": {
        "colab": {
          "base_uri": "https://localhost:8080/"
        },
        "id": "Jm-XycFwCJ75",
        "outputId": "f728e8ee-3a52-4601-d5ed-2fe2fa6a4280"
      },
      "execution_count": 67,
      "outputs": [
        {
          "output_type": "execute_result",
          "data": {
            "text/plain": [
              "ST    187\n",
              "W      74\n",
              "OM     57\n",
              "DM     49\n",
              "LD     11\n",
              "CB      6\n",
              "Name: PT_position, dtype: int64"
            ]
          },
          "metadata": {},
          "execution_count": 67
        }
      ]
    },
    {
      "cell_type": "markdown",
      "source": [
        "###Of course the position which gets the most number of penalties is ST beacause the striker is more often in the oppoent's box."
      ],
      "metadata": {
        "id": "BeWwGK7z6Y55"
      }
    },
    {
      "cell_type": "markdown",
      "source": [
        "#III Condition\n",
        "##a) Sub Players percentage\n",
        "##b) Minutes of penalties obtained"
      ],
      "metadata": {
        "id": "qiLMZinxbRmo"
      }
    },
    {
      "cell_type": "code",
      "source": [
        "alldata['PT_sub'].value_counts()\n"
      ],
      "metadata": {
        "colab": {
          "base_uri": "https://localhost:8080/"
        },
        "id": "V2wn_yUP_WHu",
        "outputId": "15c67f6c-7950-4830-a5cd-c83245ffb0cc"
      },
      "execution_count": 69,
      "outputs": [
        {
          "output_type": "execute_result",
          "data": {
            "text/plain": [
              "NO     461\n",
              "YES     33\n",
              "Name: PT_sub, dtype: int64"
            ]
          },
          "metadata": {},
          "execution_count": 69
        }
      ]
    },
    {
      "cell_type": "code",
      "source": [
        "alldata['PT_sub'][alldata['Scored']=='YES'].value_counts()"
      ],
      "metadata": {
        "colab": {
          "base_uri": "https://localhost:8080/"
        },
        "id": "9hyrx3t3_jzu",
        "outputId": "bfdd4ae1-d680-4db5-ab96-05ac17e4d571"
      },
      "execution_count": 70,
      "outputs": [
        {
          "output_type": "execute_result",
          "data": {
            "text/plain": [
              "NO     359\n",
              "YES     25\n",
              "Name: PT_sub, dtype: int64"
            ]
          },
          "metadata": {},
          "execution_count": 70
        }
      ]
    },
    {
      "cell_type": "code",
      "source": [
        "\n",
        "Psub=(25/33)*100\n",
        "print(\"Percentage of the subs : \"\"%2.f\"%Psub,\"%\")\n"
      ],
      "metadata": {
        "colab": {
          "base_uri": "https://localhost:8080/"
        },
        "id": "91WtYG8i_y6r",
        "outputId": "92f5e57e-860f-4823-c078-621605be3d64"
      },
      "execution_count": 93,
      "outputs": [
        {
          "output_type": "stream",
          "name": "stdout",
          "text": [
            "Percentage of the subs : 76 %\n"
          ]
        }
      ]
    },
    {
      "cell_type": "code",
      "source": [
        "#b) Minutes of penalties obtained\n",
        "\n",
        "fig = sns.FacetGrid(df, aspect=3, palette=\"Set2\") # aspect=3 permet d'allonger le graphique\n",
        "fig.map(sns.kdeplot, \"Minute\", shade=True)\n",
        "fig.add_legend()"
      ],
      "metadata": {
        "colab": {
          "base_uri": "https://localhost:8080/",
          "height": 242
        },
        "id": "FCYoDOces62A",
        "outputId": "3b62445e-2cdf-4c28-c64a-4e4b8b17800c"
      },
      "execution_count": 85,
      "outputs": [
        {
          "output_type": "execute_result",
          "data": {
            "text/plain": [
              "<seaborn.axisgrid.FacetGrid at 0x7f5e2328d940>"
            ]
          },
          "metadata": {},
          "execution_count": 85
        },
        {
          "output_type": "display_data",
          "data": {
            "text/plain": [
              "<Figure size 656x216 with 1 Axes>"
            ],
            "image/png": "[encoded data removed]"
          },
          "metadata": {
            "needs_background": "light"
          }
        }
      ]
    },
    {
      "cell_type": "markdown",
      "source": [
        "### We see that the moment where teams have the best percentage to obtained a penalty is near the half time"
      ],
      "metadata": {
        "id": "IIE_TD-azT9H"
      }
    },
    {
      "cell_type": "markdown",
      "source": [
        "Finally, I convert the data to output an Excel file"
      ],
      "metadata": {
        "id": "XIpo7n6UX018"
      }
    },
    {
      "cell_type": "code",
      "source": [
        "#alldata.to_excel('Penaltyapres.xlsx')"
      ],
      "metadata": {
        "id": "IegXwfF0JoUL"
      },
      "execution_count": 74,
      "outputs": []
    }
  ]
}